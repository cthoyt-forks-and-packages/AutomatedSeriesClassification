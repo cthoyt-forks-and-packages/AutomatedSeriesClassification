{
 "cells": [
  {
   "cell_type": "code",
   "execution_count": null,
   "metadata": {},
   "outputs": [],
   "source": [
    "import sys, os\n",
    "import pandas as pd\n",
    "import numpy as np\n",
    "import sklearn\n",
    "from rdkit import Chem, rdBase\n",
    "from rdkit.Chem import rdFMCS, Draw, PandasTools, AllChem, DataStructs, Descriptors\n",
    "from rdkit.Chem.Draw import IPythonConsole\n",
    "from IPython.display import SVG\n",
    "import matplotlib as mpl\n",
    "import matplotlib.pyplot as plt\n",
    "from matplotlib import rcParams\n",
    "from matplotlib.colors import hex2color\n",
    "import seaborn as sns\n",
    "import time\n",
    "from rdkit import DataStructs\n",
    "import pickle\n",
    "from ipywidgets import interact,fixed,IntSlider\n",
    "\n",
    "print('RDKit version: ',rdBase.rdkitVersion)\n",
    "print('Pandas version:', pd.__version__)\n",
    "print('Numpy version:', np.__version__)\n",
    "print('MatplotLib version:', mpl.__version__)\n",
    "print('Sklearn version:', sklearn.__version__)\n",
    "print('Seaborn version:', sns.__version__)"
   ]
  },
  {
   "cell_type": "code",
   "execution_count": null,
   "metadata": {},
   "outputs": [],
   "source": [
    "import imp\n",
    "import automated_series_classification\n",
    "imp.reload(automated_series_classification)\n",
    "from automated_series_classification import utilsDataPrep, mainSeriesClassification, utilsDrawing\n",
    "from automated_series_classification import UPGMAclustering"
   ]
  },
  {
   "cell_type": "markdown",
   "metadata": {},
   "source": [
    "Load ChEMBL database for substructure matching (constructed during data preprocessing)"
   ]
  },
  {
   "cell_type": "code",
   "execution_count": null,
   "metadata": {},
   "outputs": [],
   "source": [
    "with open('./data/chembl27_ssslib.pkl','rb') as file:\n",
    "    chembldb = pickle.load(file)\n",
    "Nchembl = len(chembldb)"
   ]
  },
  {
   "cell_type": "markdown",
   "metadata": {},
   "source": [
    "Define Parameters, note that flimit corresponds to the specificity limit E(p) as described in the paper\n",
    "\n",
    "TIPS:dbpath is not automatically updated so if you would like to try to analyze different dataset, you should remove rdk_db or define dbpath by different name"
   ]
  },
  {
   "cell_type": "code",
   "execution_count": null,
   "metadata": {},
   "outputs": [],
   "source": [
    "flimit=1e-3\n",
    "MinClusterSize=10 #20\n",
    "proj='CDK2Kinase'\n",
    "dbpath='./rdk_db'\n",
    "datapath='./{0}/'.format(proj)"
   ]
  },
  {
   "cell_type": "markdown",
   "metadata": {},
   "source": [
    "### UPGMA classification"
   ]
  },
  {
   "cell_type": "markdown",
   "metadata": {},
   "source": [
    "Set \"calcDists\" to True only if the pairwise molecular distance matrix for clustering is not calculated yet (this will take a while). Set \"calcScores\" only if you are interested in the intra-cluster distance metric, this slows down the clustering."
   ]
  },
  {
   "cell_type": "code",
   "execution_count": null,
   "metadata": {},
   "outputs": [],
   "source": [
    "#utilsDataPrep.py\n",
    "#Lin32 read only 100 mols for test\n",
    "\n",
    "UPGMAClassification=mainSeriesClassification.Classification(proj, datapath, dbpath, chembldb, flimit, MinClusterSize, clustering='UPGMA', calcDists=True, calcScores=False)"
   ]
  },
  {
   "cell_type": "code",
   "execution_count": null,
   "metadata": {},
   "outputs": [],
   "source": [
    "#imp.reload(UPGMAclustering)\n",
    "#imp.reload(mainSeriesClassification)\n",
    "start=time.time()\n",
    "UPGMAClassification.ApplyClustering()\n",
    "end=time.time()\n",
    "print(\"Time elapsed during the calculation:\", end - start)   "
   ]
  },
  {
   "cell_type": "markdown",
   "metadata": {},
   "source": [
    "### Benchmark against human-defined classification (seriescolumn is the column with the human series assignment to each molecule in the dataframe moldata)"
   ]
  },
  {
   "cell_type": "code",
   "execution_count": null,
   "metadata": {},
   "outputs": [],
   "source": [
    "UPGMAClassification.CalculatePerformance(seriescolumn='series assignment')"
   ]
  },
  {
   "cell_type": "code",
   "execution_count": null,
   "metadata": {},
   "outputs": [],
   "source": [
    "moldata_proj=UPGMAClassification.moldata_proj\n",
    "ProjectClusters=UPGMAClassification.MCSdict\n",
    "PerformanceClusters=UPGMAClassification.PerformanceClusters"
   ]
  },
  {
   "cell_type": "code",
   "execution_count": null,
   "metadata": {},
   "outputs": [],
   "source": [
    "moldata_proj"
   ]
  },
  {
   "cell_type": "markdown",
   "metadata": {},
   "source": [
    "### Calculate performance metrics"
   ]
  },
  {
   "cell_type": "code",
   "execution_count": null,
   "metadata": {},
   "outputs": [],
   "source": [
    "Nmol=len(moldata_proj)\n",
    "Nrep=sum(moldata_proj['ClusterID'].map(lambda x: len(x)).tolist())\n",
    "Nunassigned=len(moldata_proj.loc[moldata_proj['ClusterID'].map(lambda x: len(x)==0)])\n",
    "frac_assigned=(Nmol-Nunassigned)/Nmol\n",
    "a=Nrep/(Nmol-Nunassigned)\n",
    "print('fraction of assigned molecules:',frac_assigned,', ambiguity score:',a)"
   ]
  },
  {
   "cell_type": "markdown",
   "metadata": {},
   "source": [
    "### Plot benchmarking between automatically identified and human defined series"
   ]
  },
  {
   "cell_type": "markdown",
   "metadata": {},
   "source": [
    "rearrange performance results"
   ]
  },
  {
   "cell_type": "code",
   "execution_count": null,
   "metadata": {},
   "outputs": [],
   "source": [
    "scaflist=list(set(moldata_proj['scaffold'].tolist()))\n",
    "scaflist.sort()\n",
    "N_auto_series=len(PerformanceClusters['recall'])\n",
    "LinkVector=PerformanceClusters['linked series']\n",
    "\n",
    "dict_recall={LinkVector[ind,0]:np.zeros(len(scaflist)) for ind in range(N_auto_series)}\n",
    "dict_prec={LinkVector[ind,0]:np.zeros(len(scaflist)) for ind in range(N_auto_series)}\n",
    "for ind in range(N_auto_series):\n",
    "    scafind=np.where(np.array(scaflist)==LinkVector[ind,1])\n",
    "    dict_recall[LinkVector[ind,0]][scafind]=PerformanceClusters['recall'][ind]\n",
    "    dict_prec[LinkVector[ind,0]][scafind]=PerformanceClusters['precision'][ind]\n",
    "    \n",
    "keylist=LinkVector[:,0].tolist()\n",
    "keylist.sort()\n",
    "dict_recall_sorted={k:dict_recall[k] for k in keylist}\n",
    "dict_prec_sorted={k:dict_prec[k] for k in keylist}"
   ]
  },
  {
   "cell_type": "code",
   "execution_count": null,
   "metadata": {},
   "outputs": [],
   "source": [
    "PerformanceClusters"
   ]
  },
  {
   "cell_type": "code",
   "execution_count": null,
   "metadata": {},
   "outputs": [],
   "source": [
    "legend=['Series '+s[-2:] for s in scaflist]\n",
    "rcParams.update({'figure.autolayout': True})\n",
    "fig,ax=plt.subplots(2,1,figsize=(10,10))\n",
    "fig,_=utilsDrawing.barplot_vertical(fig, ax[0],dict_recall_sorted,'recall linked h. series',[],['']*len(keylist),1.02)\n",
    "fig,_=utilsDrawing.barplot_vertical(fig, ax[1],dict_prec_sorted,'precision linked h. series',legend,keylist,1.02)\n",
    "ax[1].set_xlabel('ID automatically-identified series',fontsize=22)\n",
    "plt.show()"
   ]
  },
  {
   "cell_type": "markdown",
   "metadata": {},
   "source": [
    "### Draw MCS of automatically-identified series and linked human-defined series"
   ]
  },
  {
   "cell_type": "code",
   "execution_count": null,
   "metadata": {
    "scrolled": true
   },
   "outputs": [],
   "source": [
    "def renderMCS(seriesid,newscafslist,newscafsnames,linkedscafslist,linkedscafsnames):\n",
    "    listid=np.where(np.array(newscafsnames)==seriesid)[0][0]\n",
    "    svg_new=utilsDrawing.moltosvg(Chem.MolFromSmarts(newscafslist[listid]), molSize=(450,250))\n",
    "    svg_linked=utilsDrawing.moltosvg(Chem.MolFromSmarts(linkedscafslist[listid]), molSize=(450,250))\n",
    "    labels=[newscafsnames[listid],linkedscafsnames[listid]]\n",
    "    svgGrid = utilsDrawing.SvgsToGrid([svg_new,svg_linked], labels=labels, svgsPerRow=2, molSize=(450,250))\n",
    "    \n",
    "    return(display(SVG(svgGrid)))"
   ]
  },
  {
   "cell_type": "code",
   "execution_count": null,
   "metadata": {},
   "outputs": [],
   "source": [
    "datapath"
   ]
  },
  {
   "cell_type": "code",
   "execution_count": null,
   "metadata": {},
   "outputs": [],
   "source": [
    "seriesdata_proj=pd.read_csv('{0}seriesdata.csv'.format(datapath))\n",
    "LinkVector_sorted=np.array([[x,y] for x,y in sorted(zip(LinkVector[:,0],LinkVector[:,1]))])\n",
    "linkedScafsList=[seriesdata_proj['MCSsampled'].loc[seriesdata_proj['ScafName']==x].iloc[0] for x in LinkVector_sorted[:,1]]\n",
    "linkedScafsNames=[x for x in LinkVector_sorted[:,1]]\n",
    "MCSlist=[ProjectClusters[int(k)][2] for k in keylist]\n",
    "\n",
    "interact(renderMCS, seriesid=keylist, newscafslist=fixed(MCSlist),newscafsnames=fixed(keylist),linkedscafslist=fixed(linkedScafsList),linkedscafsnames=fixed(linkedScafsNames));\n"
   ]
  },
  {
   "cell_type": "markdown",
   "metadata": {},
   "source": [
    "### 10fold cross-validation by sampling 40% of all compounds"
   ]
  },
  {
   "cell_type": "code",
   "execution_count": null,
   "metadata": {},
   "outputs": [],
   "source": [
    "fraction_sample=0.4\n",
    "N_sample=10\n",
    "start=time.clock()\n",
    "UPGMAClassification.ClassificationCrossValidation(fraction_sample, N_sample)\n",
    "end=time.clock()\n",
    "print(\"Time elapsed during the calculation:\", end - start)   "
   ]
  },
  {
   "cell_type": "code",
   "execution_count": null,
   "metadata": {},
   "outputs": [],
   "source": [
    "UPGMAClassification.EvaluationCrossValidation()"
   ]
  },
  {
   "cell_type": "code",
   "execution_count": null,
   "metadata": {},
   "outputs": [],
   "source": [
    "rcParams.update({'figure.autolayout': True})\n",
    "fig,ax=plt.subplots(1,1,figsize=(12,8))\n",
    "ax = sns.boxplot(x=\"series id\", y=\"fscore\", data=UPGMAClassification.EvalCrossval, color=[0.5,0.6,1.0],ax=ax)\n",
    "ax.set_ylabel('F$_1$ score',fontsize=26)\n",
    "ax.set_xlabel('series ID',fontsize=26)\n",
    "\n",
    "plt.setp(ax.get_xticklabels(), fontsize=22, rotation='vertical')\n",
    "plt.setp(ax.get_yticklabels(), fontsize=22)\n",
    "plt.show()"
   ]
  }
 ],
 "metadata": {
  "kernelspec": {
   "display_name": "Python 3",
   "language": "python",
   "name": "python3"
  },
  "language_info": {
   "codemirror_mode": {
    "name": "ipython",
    "version": 3
   },
   "file_extension": ".py",
   "mimetype": "text/x-python",
   "name": "python",
   "nbconvert_exporter": "python",
   "pygments_lexer": "ipython3",
   "version": "3.8.3"
  }
 },
 "nbformat": 4,
 "nbformat_minor": 2
}
